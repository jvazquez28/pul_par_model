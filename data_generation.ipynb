{
 "cells": [
  {
   "cell_type": "markdown",
   "metadata": {},
   "source": [
    "# Generación de datos para entrenar un modelo de Machine Learning\n"
   ]
  },
  {
   "cell_type": "markdown",
   "metadata": {},
   "source": [
    "### Importar librerías necesarias"
   ]
  },
  {
   "cell_type": "code",
   "execution_count": 1,
   "metadata": {},
   "outputs": [],
   "source": [
    "import pandas as pd\n",
    "import numpy as np\n",
    "import matplotlib.pyplot as plt\n",
    "import seaborn as sns\n",
    "\n",
    "from sklearn.model_selection import train_test_split\n",
    "from sklearn.linear_model import LogisticRegression\n",
    "from sklearn.metrics import accuracy_score, confusion_matrix, classification_report\n"
   ]
  },
  {
   "cell_type": "markdown",
   "metadata": {},
   "source": [
    "### Cargar el inventario de plazas disponibles en la zona SER de Madrid."
   ]
  },
  {
   "cell_type": "code",
   "execution_count": 12,
   "metadata": {},
   "outputs": [],
   "source": [
    "df = pd.read_csv('data/calles_SER_2024.csv', sep=';', encoding='latin-1') \n"
   ]
  },
  {
   "cell_type": "markdown",
   "metadata": {},
   "source": [
    "### Análisis Exploratorio de Datos"
   ]
  },
  {
   "cell_type": "code",
   "execution_count": 13,
   "metadata": {},
   "outputs": [
    {
     "data": {
      "text/html": [
       "<div>\n",
       "<style scoped>\n",
       "    .dataframe tbody tr th:only-of-type {\n",
       "        vertical-align: middle;\n",
       "    }\n",
       "\n",
       "    .dataframe tbody tr th {\n",
       "        vertical-align: top;\n",
       "    }\n",
       "\n",
       "    .dataframe thead th {\n",
       "        text-align: right;\n",
       "    }\n",
       "</style>\n",
       "<table border=\"1\" class=\"dataframe\">\n",
       "  <thead>\n",
       "    <tr style=\"text-align: right;\">\n",
       "      <th></th>\n",
       "      <th>gis_x</th>\n",
       "      <th>gis_y</th>\n",
       "      <th>distrito</th>\n",
       "      <th>barrio</th>\n",
       "      <th>calle</th>\n",
       "      <th>num_finca</th>\n",
       "      <th>color</th>\n",
       "      <th>bateria_linea</th>\n",
       "      <th>num_plazas</th>\n",
       "    </tr>\n",
       "  </thead>\n",
       "  <tbody>\n",
       "    <tr>\n",
       "      <th>11954</th>\n",
       "      <td>442659,15</td>\n",
       "      <td>4476959,87</td>\n",
       "      <td>05  CHAMARTÍN</td>\n",
       "      <td>05-02 PROSPERIDAD</td>\n",
       "      <td>CANILLAS, CALLE, DE</td>\n",
       "      <td>19</td>\n",
       "      <td>077214010 Verde</td>\n",
       "      <td>Línea</td>\n",
       "      <td>1.0</td>\n",
       "    </tr>\n",
       "    <tr>\n",
       "      <th>1973</th>\n",
       "      <td>438880,29</td>\n",
       "      <td>4473444,33</td>\n",
       "      <td>02  ARGANZUELA</td>\n",
       "      <td>02-01 IMPERIAL</td>\n",
       "      <td>PIZARRA, CALLE, DE LA</td>\n",
       "      <td>3</td>\n",
       "      <td>077214010 Verde</td>\n",
       "      <td>Batería</td>\n",
       "      <td>13.0</td>\n",
       "    </tr>\n",
       "    <tr>\n",
       "      <th>30971</th>\n",
       "      <td>444559,37</td>\n",
       "      <td>4476537,77</td>\n",
       "      <td>15  CIUDAD LINEAL</td>\n",
       "      <td>15-04 CONCEPCIÓN</td>\n",
       "      <td>VIRGEN DEL FRESNEDO, CALLE, DE LA</td>\n",
       "      <td>7</td>\n",
       "      <td>077214010 Verde</td>\n",
       "      <td>Línea</td>\n",
       "      <td>5.0</td>\n",
       "    </tr>\n",
       "    <tr>\n",
       "      <th>17492</th>\n",
       "      <td>440697,74</td>\n",
       "      <td>4478189,07</td>\n",
       "      <td>06  TETUÁN</td>\n",
       "      <td>06-02 CUATRO CAMINOS</td>\n",
       "      <td>DULCINEA, CALLE, DE</td>\n",
       "      <td>67</td>\n",
       "      <td>077214010 Verde</td>\n",
       "      <td>Línea</td>\n",
       "      <td>7.0</td>\n",
       "    </tr>\n",
       "    <tr>\n",
       "      <th>19227</th>\n",
       "      <td>441023,44</td>\n",
       "      <td>4480240,45</td>\n",
       "      <td>06  TETUÁN</td>\n",
       "      <td>06-04 ALMENARA</td>\n",
       "      <td>MONTOYA, CALLE, DE</td>\n",
       "      <td>48</td>\n",
       "      <td>043000255 Azul</td>\n",
       "      <td>Línea</td>\n",
       "      <td>5.0</td>\n",
       "    </tr>\n",
       "  </tbody>\n",
       "</table>\n",
       "</div>"
      ],
      "text/plain": [
       "           gis_x       gis_y           distrito                barrio  \\\n",
       "11954  442659,15  4476959,87      05  CHAMARTÍN     05-02 PROSPERIDAD   \n",
       "1973   438880,29  4473444,33     02  ARGANZUELA        02-01 IMPERIAL   \n",
       "30971  444559,37  4476537,77  15  CIUDAD LINEAL      15-04 CONCEPCIÓN   \n",
       "17492  440697,74  4478189,07         06  TETUÁN  06-02 CUATRO CAMINOS   \n",
       "19227  441023,44  4480240,45         06  TETUÁN        06-04 ALMENARA   \n",
       "\n",
       "                                   calle num_finca            color  \\\n",
       "11954                CANILLAS, CALLE, DE        19  077214010 Verde   \n",
       "1973               PIZARRA, CALLE, DE LA         3  077214010 Verde   \n",
       "30971  VIRGEN DEL FRESNEDO, CALLE, DE LA         7  077214010 Verde   \n",
       "17492                DULCINEA, CALLE, DE        67  077214010 Verde   \n",
       "19227                 MONTOYA, CALLE, DE        48   043000255 Azul   \n",
       "\n",
       "      bateria_linea  num_plazas  \n",
       "11954         Línea         1.0  \n",
       "1973        Batería        13.0  \n",
       "30971         Línea         5.0  \n",
       "17492         Línea         7.0  \n",
       "19227         Línea         5.0  "
      ]
     },
     "execution_count": 13,
     "metadata": {},
     "output_type": "execute_result"
    }
   ],
   "source": [
    "df.sample(5)"
   ]
  },
  {
   "cell_type": "code",
   "execution_count": 4,
   "metadata": {},
   "outputs": [
    {
     "name": "stdout",
     "output_type": "stream",
     "text": [
      "<class 'pandas.core.frame.DataFrame'>\n",
      "RangeIndex: 32205 entries, 0 to 32204\n",
      "Data columns (total 9 columns):\n",
      " #   Column         Non-Null Count  Dtype  \n",
      "---  ------         --------------  -----  \n",
      " 0   gis_x          32205 non-null  object \n",
      " 1   gis_y          32205 non-null  object \n",
      " 2   distrito       32205 non-null  object \n",
      " 3   barrio         32205 non-null  object \n",
      " 4   calle          32205 non-null  object \n",
      " 5   num_finca      32205 non-null  object \n",
      " 6   color          32205 non-null  object \n",
      " 7   bateria_linea  32205 non-null  object \n",
      " 8   num_plazas     32204 non-null  float64\n",
      "dtypes: float64(1), object(8)\n",
      "memory usage: 2.2+ MB\n"
     ]
    }
   ],
   "source": [
    "df.info()"
   ]
  },
  {
   "cell_type": "code",
   "execution_count": 5,
   "metadata": {},
   "outputs": [
    {
     "data": {
      "text/html": [
       "<div>\n",
       "<style scoped>\n",
       "    .dataframe tbody tr th:only-of-type {\n",
       "        vertical-align: middle;\n",
       "    }\n",
       "\n",
       "    .dataframe tbody tr th {\n",
       "        vertical-align: top;\n",
       "    }\n",
       "\n",
       "    .dataframe thead th {\n",
       "        text-align: right;\n",
       "    }\n",
       "</style>\n",
       "<table border=\"1\" class=\"dataframe\">\n",
       "  <thead>\n",
       "    <tr style=\"text-align: right;\">\n",
       "      <th></th>\n",
       "      <th>count</th>\n",
       "      <th>unique</th>\n",
       "      <th>top</th>\n",
       "      <th>freq</th>\n",
       "    </tr>\n",
       "  </thead>\n",
       "  <tbody>\n",
       "    <tr>\n",
       "      <th>gis_x</th>\n",
       "      <td>32205</td>\n",
       "      <td>31210</td>\n",
       "      <td>440937,46</td>\n",
       "      <td>3</td>\n",
       "    </tr>\n",
       "    <tr>\n",
       "      <th>gis_y</th>\n",
       "      <td>32205</td>\n",
       "      <td>31659</td>\n",
       "      <td>4479148,41</td>\n",
       "      <td>3</td>\n",
       "    </tr>\n",
       "    <tr>\n",
       "      <th>distrito</th>\n",
       "      <td>32205</td>\n",
       "      <td>12</td>\n",
       "      <td>05  CHAMARTÍN</td>\n",
       "      <td>6060</td>\n",
       "    </tr>\n",
       "    <tr>\n",
       "      <th>barrio</th>\n",
       "      <td>32205</td>\n",
       "      <td>60</td>\n",
       "      <td>05-01 EL VISO</td>\n",
       "      <td>1327</td>\n",
       "    </tr>\n",
       "    <tr>\n",
       "      <th>calle</th>\n",
       "      <td>32205</td>\n",
       "      <td>2284</td>\n",
       "      <td>CASTELLANA, PASEO, DE LA</td>\n",
       "      <td>273</td>\n",
       "    </tr>\n",
       "    <tr>\n",
       "      <th>num_finca</th>\n",
       "      <td>32205</td>\n",
       "      <td>644</td>\n",
       "      <td>S/N</td>\n",
       "      <td>2401</td>\n",
       "    </tr>\n",
       "    <tr>\n",
       "      <th>color</th>\n",
       "      <td>32205</td>\n",
       "      <td>5</td>\n",
       "      <td>077214010 Verde</td>\n",
       "      <td>27984</td>\n",
       "    </tr>\n",
       "    <tr>\n",
       "      <th>bateria_linea</th>\n",
       "      <td>32205</td>\n",
       "      <td>2</td>\n",
       "      <td>Línea</td>\n",
       "      <td>24599</td>\n",
       "    </tr>\n",
       "  </tbody>\n",
       "</table>\n",
       "</div>"
      ],
      "text/plain": [
       "               count unique                       top   freq\n",
       "gis_x          32205  31210                 440937,46      3\n",
       "gis_y          32205  31659                4479148,41      3\n",
       "distrito       32205     12             05  CHAMARTÍN   6060\n",
       "barrio         32205     60             05-01 EL VISO   1327\n",
       "calle          32205   2284  CASTELLANA, PASEO, DE LA    273\n",
       "num_finca      32205    644                       S/N   2401\n",
       "color          32205      5           077214010 Verde  27984\n",
       "bateria_linea  32205      2                     Línea  24599"
      ]
     },
     "execution_count": 5,
     "metadata": {},
     "output_type": "execute_result"
    }
   ],
   "source": [
    "df.describe(include='object').round().T"
   ]
  },
  {
   "cell_type": "markdown",
   "metadata": {},
   "source": [
    "### Valores únicos por columna"
   ]
  },
  {
   "cell_type": "code",
   "execution_count": 6,
   "metadata": {},
   "outputs": [
    {
     "name": "stdout",
     "output_type": "stream",
     "text": [
      "         Feature                                      Unique Values\n",
      "0          gis_x  [439592,91, 439569,07, 439578,18, 439574,49, 4...\n",
      "1          gis_y  [4473566,23, 4473598,77, 4473498,76, 4473493,4...\n",
      "2       distrito  [01  CENTRO, 02  ARGANZUELA, 03  RETIRO, 04  S...\n",
      "3         barrio  [01-01 PALACIO, 01-02 EMBAJADORES, 01-03 CORTE...\n",
      "4          calle  [AGUAS, CALLE, DE LAS, AGUILA, CALLE, DEL, ALA...\n",
      "5      num_finca  [2, 8, 3, 5, 12, 17, 21, 1, 6, 7, 4, 9, 19, 14...\n",
      "6          color  [077214010 Verde, 255140000 Naranja, 043000255...\n",
      "7  bateria_linea                                   [Línea, Batería]\n",
      "8     num_plazas  [7.0, 5.0, 1.0, 9.0, 4.0, 3.0, 2.0, 6.0, 13.0,...\n"
     ]
    }
   ],
   "source": [
    "# Obtener un nuevo dataframe de dos columnas donde en la primera estén las features (features) y en la otra los valores únicos\n",
    "# asociados (n_values).\n",
    "\n",
    "unique_values_output = []\n",
    "for column in df.columns:\n",
    "    unique_values = df[column].unique().tolist()\n",
    "    unique_values_output.append([column, unique_values])\n",
    "\n",
    "unique_values_df = pd.DataFrame(unique_values_output, columns=['Feature', 'Unique Values'])\n",
    "print(unique_values_df)"
   ]
  },
  {
   "cell_type": "code",
   "execution_count": 9,
   "metadata": {},
   "outputs": [
    {
     "name": "stdout",
     "output_type": "stream",
     "text": [
      "['verde', 'azul']\n"
     ]
    }
   ],
   "source": [
    "print(df['zona_ser'].unique().tolist())"
   ]
  },
  {
   "cell_type": "code",
   "execution_count": 12,
   "metadata": {},
   "outputs": [
    {
     "data": {
      "text/plain": [
       "gis_x            0\n",
       "gis_y            0\n",
       "distrito         0\n",
       "barrio           0\n",
       "calle            0\n",
       "num_finca        0\n",
       "color            0\n",
       "bateria_linea    0\n",
       "num_plazas       1\n",
       "dtype: int64"
      ]
     },
     "execution_count": 12,
     "metadata": {},
     "output_type": "execute_result"
    }
   ],
   "source": [
    "df.isnull().sum()"
   ]
  },
  {
   "cell_type": "markdown",
   "metadata": {},
   "source": [
    "### Investigando cuantas plazas hay por zona"
   ]
  },
  {
   "cell_type": "code",
   "execution_count": 15,
   "metadata": {},
   "outputs": [
    {
     "data": {
      "text/plain": [
       "color\n",
       "043000255 Azul              21209.0\n",
       "077214010 Verde            147490.0\n",
       "081209246 Alta Rotación       374.0\n",
       "255000000 Rojo                366.0\n",
       "255140000 Naranja            1511.0\n",
       "Name: num_plazas, dtype: float64"
      ]
     },
     "execution_count": 15,
     "metadata": {},
     "output_type": "execute_result"
    }
   ],
   "source": [
    "df.groupby('color')['num_plazas'].sum()\n"
   ]
  },
  {
   "cell_type": "code",
   "execution_count": null,
   "metadata": {},
   "outputs": [],
   "source": [
    "import pandas as pd\n",
    "from geopy.distance import geodesic\n",
    "\n",
    "# Sample dataframe of coordinates (latitude, longitude)\n",
    "data = {\n",
    "    'location': ['A', 'B', 'C', 'D'],\n",
    "    'latitude': [40.7128, 34.0522, 51.5074, 48.8566],\n",
    "    'longitude': [-74.0060, -118.2437, -0.1276, 2.3522]\n",
    "}\n",
    "\n",
    "df = pd.DataFrame(data)\n",
    "\n",
    "# Define the center coordinate (latitude, longitude) and radius (in kilometers)\n",
    "center = (40.439410, -3,695900)  # Example: San Francisco, CA\n",
    "radius = 5000  # in kilometers\n",
    "\n",
    "# Function to calculate the distance from the center\n",
    "def is_within_radius(lat, lon, center, radius):\n",
    "    point = (lat, lon)\n",
    "    distance = geodesic(center, point).kilometers\n",
    "    return distance <= radius\n",
    "\n",
    "# Apply the function to each row in the dataframe\n",
    "df['within_radius'] = df.apply(lambda row: is_within_radius(row['latitude'], row['longitude'], center, radius), axis=1)\n",
    "\n",
    "print(df)\n",
    "\n"
   ]
  },
  {
   "cell_type": "markdown",
   "metadata": {},
   "source": [
    "## Transformaciones"
   ]
  },
  {
   "cell_type": "markdown",
   "metadata": {},
   "source": [
    "### Zonas SER"
   ]
  },
  {
   "cell_type": "code",
   "execution_count": 14,
   "metadata": {},
   "outputs": [],
   "source": [
    "import pandas as pd\n",
    "\n",
    "# Assuming your data is in a DataFrame called 'df'\n",
    "# If not, you can create it like this:\n",
    "# df = pd.read_csv('your_file.csv', sep=';')\n",
    "\n",
    "df['zona_ser'] = df['color'].str.split(' ').str[1].str.lower()\n",
    "df = df[df['zona_ser'].isin(['verde', 'azul'])]\n"
   ]
  },
  {
   "cell_type": "markdown",
   "metadata": {},
   "source": [
    "### Generar columnas longitude y latitude"
   ]
  },
  {
   "cell_type": "code",
   "execution_count": 15,
   "metadata": {},
   "outputs": [
    {
     "name": "stdout",
     "output_type": "stream",
     "text": [
      "       gis_x       gis_y    distrito         barrio                 calle  \\\n",
      "0  439592.91  4473566.23  01  CENTRO  01-01 PALACIO  AGUAS, CALLE, DE LAS   \n",
      "1  439569.07  4473598.77  01  CENTRO  01-01 PALACIO  AGUAS, CALLE, DE LAS   \n",
      "2  439578.18  4473498.76  01  CENTRO  01-01 PALACIO    AGUILA, CALLE, DEL   \n",
      "3  439574.49  4473493.40  01  CENTRO  01-01 PALACIO    AGUILA, CALLE, DEL   \n",
      "4  439559.19  4473471.82  01  CENTRO  01-01 PALACIO    AGUILA, CALLE, DEL   \n",
      "\n",
      "  num_finca            color bateria_linea  num_plazas zona_ser   latitude  \\\n",
      "0         2  077214010 Verde         Línea         7.0    verde  40.410523   \n",
      "1         8  077214010 Verde         Línea         5.0    verde  40.410815   \n",
      "2         3  077214010 Verde         Línea         1.0    verde  40.409915   \n",
      "3         5  077214010 Verde         Línea         1.0    verde  40.409866   \n",
      "4        12  077214010 Verde         Línea         9.0    verde  40.409671   \n",
      "\n",
      "   longitude  \n",
      "0  -3.711956  \n",
      "1  -3.712240  \n",
      "2  -3.712123  \n",
      "3  -3.712166  \n",
      "4  -3.712344  \n"
     ]
    }
   ],
   "source": [
    "import pandas as pd\n",
    "import utm\n",
    "\n",
    "# Assuming your data is in a DataFrame called 'df'\n",
    "# If not, you can create it like this:\n",
    "# df = pd.read_csv('your_file.csv', sep=';')\n",
    "\n",
    "# Replace comma with point for gis_x and gis_y columns\n",
    "df['gis_x'] = df['gis_x'].str.replace(',', '.').astype(float)\n",
    "df['gis_y'] = df['gis_y'].str.replace(',', '.').astype(float)\n",
    "\n",
    "# Function to convert UTM to Latitude and Longitude\n",
    "def utm_to_latlong(row):\n",
    "  try:\n",
    "    lat, lon = utm.to_latlon(row['gis_x'], row['gis_y'], 30, 'N') # Assuming UTM zone 30N, adjust if needed\n",
    "  except:\n",
    "    lat, lon = None, None # Handle cases where conversion might fail\n",
    "  return pd.Series({'latitude': lat, 'longitude': lon})\n",
    "\n",
    "# Apply the function to create new columns\n",
    "df[['latitude', 'longitude']] = df.apply(utm_to_latlong, axis=1)\n",
    "\n",
    "print(df.head())\n"
   ]
  },
  {
   "cell_type": "markdown",
   "metadata": {},
   "source": [
    "### Extraer columnas útiles del inventario de plazas SER"
   ]
  },
  {
   "cell_type": "code",
   "execution_count": 16,
   "metadata": {},
   "outputs": [
    {
     "data": {
      "text/html": [
       "<div>\n",
       "<style scoped>\n",
       "    .dataframe tbody tr th:only-of-type {\n",
       "        vertical-align: middle;\n",
       "    }\n",
       "\n",
       "    .dataframe tbody tr th {\n",
       "        vertical-align: top;\n",
       "    }\n",
       "\n",
       "    .dataframe thead th {\n",
       "        text-align: right;\n",
       "    }\n",
       "</style>\n",
       "<table border=\"1\" class=\"dataframe\">\n",
       "  <thead>\n",
       "    <tr style=\"text-align: right;\">\n",
       "      <th></th>\n",
       "      <th>latitude</th>\n",
       "      <th>longitude</th>\n",
       "      <th>zona_ser</th>\n",
       "      <th>num_plazas</th>\n",
       "    </tr>\n",
       "  </thead>\n",
       "  <tbody>\n",
       "    <tr>\n",
       "      <th>0</th>\n",
       "      <td>40.410523</td>\n",
       "      <td>-3.711956</td>\n",
       "      <td>verde</td>\n",
       "      <td>7.0</td>\n",
       "    </tr>\n",
       "    <tr>\n",
       "      <th>1</th>\n",
       "      <td>40.410815</td>\n",
       "      <td>-3.712240</td>\n",
       "      <td>verde</td>\n",
       "      <td>5.0</td>\n",
       "    </tr>\n",
       "    <tr>\n",
       "      <th>2</th>\n",
       "      <td>40.409915</td>\n",
       "      <td>-3.712123</td>\n",
       "      <td>verde</td>\n",
       "      <td>1.0</td>\n",
       "    </tr>\n",
       "    <tr>\n",
       "      <th>3</th>\n",
       "      <td>40.409866</td>\n",
       "      <td>-3.712166</td>\n",
       "      <td>verde</td>\n",
       "      <td>1.0</td>\n",
       "    </tr>\n",
       "    <tr>\n",
       "      <th>4</th>\n",
       "      <td>40.409671</td>\n",
       "      <td>-3.712344</td>\n",
       "      <td>verde</td>\n",
       "      <td>9.0</td>\n",
       "    </tr>\n",
       "  </tbody>\n",
       "</table>\n",
       "</div>"
      ],
      "text/plain": [
       "    latitude  longitude zona_ser  num_plazas\n",
       "0  40.410523  -3.711956    verde         7.0\n",
       "1  40.410815  -3.712240    verde         5.0\n",
       "2  40.409915  -3.712123    verde         1.0\n",
       "3  40.409866  -3.712166    verde         1.0\n",
       "4  40.409671  -3.712344    verde         9.0"
      ]
     },
     "execution_count": 16,
     "metadata": {},
     "output_type": "execute_result"
    }
   ],
   "source": [
    "import pandas as pd\n",
    "\n",
    "# Assuming your data is in a DataFrame called 'df'\n",
    "# If not, you can create it like this:\n",
    "# df = pd.read_csv('your_file.csv', sep=';')\n",
    "\n",
    "# Select and reorder columns\n",
    "df = df[['latitude', 'longitude', 'zona_ser', 'num_plazas']]\n",
    "\n",
    "df.head()\n"
   ]
  },
  {
   "cell_type": "markdown",
   "metadata": {},
   "source": [
    "### Añadir la columna hora_del_dia"
   ]
  },
  {
   "cell_type": "code",
   "execution_count": 19,
   "metadata": {},
   "outputs": [
    {
     "data": {
      "text/plain": [
       "(769032, 5)"
      ]
     },
     "execution_count": 19,
     "metadata": {},
     "output_type": "execute_result"
    }
   ],
   "source": [
    "df.shape"
   ]
  },
  {
   "cell_type": "code",
   "execution_count": 18,
   "metadata": {},
   "outputs": [
    {
     "name": "stdout",
     "output_type": "stream",
     "text": [
      "    latitude  longitude zona_ser  num_plazas hora_del_dia\n",
      "0  40.410523  -3.711956    verde         7.0       0 days\n",
      "1  40.410523  -3.711956    verde         7.0       0 days\n",
      "2  40.410523  -3.711956    verde         7.0       0 days\n",
      "3  40.410523  -3.711956    verde         7.0       0 days\n",
      "4  40.410523  -3.711956    verde         7.0       0 days\n"
     ]
    },
    {
     "name": "stderr",
     "output_type": "stream",
     "text": [
      "C:\\Users\\jvazq\\AppData\\Local\\Temp\\ipykernel_21384\\1888767948.py:6: FutureWarning: 'T' is deprecated and will be removed in a future version, please use 'min' instead.\n",
      "  time_intervals = pd.timedelta_range(start='00:00:00', end='23:59:00', freq='60T')\n"
     ]
    }
   ],
   "source": [
    "import pandas as pd\n",
    "\n",
    "\n",
    "\n",
    "# Create a list of time intervals\n",
    "time_intervals = pd.timedelta_range(start='00:00:00', end='23:59:00', freq='60T')\n",
    "\n",
    "# Repeat each row 48 times (for each time interval)\n",
    "df = df.loc[df.index.repeat(len(time_intervals))].reset_index(drop=True)\n",
    "\n",
    "# Add the 'hora_del_dia' column\n",
    "df['hora_del_dia'] = time_intervals.repeat(len(df) // len(time_intervals))\n",
    "\n",
    "print(df.head())\n"
   ]
  },
  {
   "cell_type": "code",
   "execution_count": 21,
   "metadata": {},
   "outputs": [
    {
     "data": {
      "text/html": [
       "<div>\n",
       "<style scoped>\n",
       "    .dataframe tbody tr th:only-of-type {\n",
       "        vertical-align: middle;\n",
       "    }\n",
       "\n",
       "    .dataframe tbody tr th {\n",
       "        vertical-align: top;\n",
       "    }\n",
       "\n",
       "    .dataframe thead th {\n",
       "        text-align: right;\n",
       "    }\n",
       "</style>\n",
       "<table border=\"1\" class=\"dataframe\">\n",
       "  <thead>\n",
       "    <tr style=\"text-align: right;\">\n",
       "      <th></th>\n",
       "      <th>latitude</th>\n",
       "      <th>longitude</th>\n",
       "      <th>zona_ser</th>\n",
       "      <th>num_plazas</th>\n",
       "      <th>hora_del_dia</th>\n",
       "    </tr>\n",
       "  </thead>\n",
       "  <tbody>\n",
       "    <tr>\n",
       "      <th>0</th>\n",
       "      <td>40.410523</td>\n",
       "      <td>-3.711956</td>\n",
       "      <td>verde</td>\n",
       "      <td>7.0</td>\n",
       "      <td>0 days</td>\n",
       "    </tr>\n",
       "    <tr>\n",
       "      <th>1</th>\n",
       "      <td>40.410523</td>\n",
       "      <td>-3.711956</td>\n",
       "      <td>verde</td>\n",
       "      <td>7.0</td>\n",
       "      <td>0 days</td>\n",
       "    </tr>\n",
       "    <tr>\n",
       "      <th>2</th>\n",
       "      <td>40.410523</td>\n",
       "      <td>-3.711956</td>\n",
       "      <td>verde</td>\n",
       "      <td>7.0</td>\n",
       "      <td>0 days</td>\n",
       "    </tr>\n",
       "    <tr>\n",
       "      <th>3</th>\n",
       "      <td>40.410523</td>\n",
       "      <td>-3.711956</td>\n",
       "      <td>verde</td>\n",
       "      <td>7.0</td>\n",
       "      <td>0 days</td>\n",
       "    </tr>\n",
       "    <tr>\n",
       "      <th>4</th>\n",
       "      <td>40.410523</td>\n",
       "      <td>-3.711956</td>\n",
       "      <td>verde</td>\n",
       "      <td>7.0</td>\n",
       "      <td>0 days</td>\n",
       "    </tr>\n",
       "  </tbody>\n",
       "</table>\n",
       "</div>"
      ],
      "text/plain": [
       "    latitude  longitude zona_ser  num_plazas hora_del_dia\n",
       "0  40.410523  -3.711956    verde         7.0       0 days\n",
       "1  40.410523  -3.711956    verde         7.0       0 days\n",
       "2  40.410523  -3.711956    verde         7.0       0 days\n",
       "3  40.410523  -3.711956    verde         7.0       0 days\n",
       "4  40.410523  -3.711956    verde         7.0       0 days"
      ]
     },
     "execution_count": 21,
     "metadata": {},
     "output_type": "execute_result"
    }
   ],
   "source": [
    "df.head()"
   ]
  },
  {
   "cell_type": "code",
   "execution_count": 22,
   "metadata": {},
   "outputs": [
    {
     "name": "stdout",
     "output_type": "stream",
     "text": [
      "<class 'pandas.core.frame.DataFrame'>\n",
      "RangeIndex: 769032 entries, 0 to 769031\n",
      "Data columns (total 5 columns):\n",
      " #   Column        Non-Null Count   Dtype          \n",
      "---  ------        --------------   -----          \n",
      " 0   latitude      769032 non-null  float64        \n",
      " 1   longitude     769032 non-null  float64        \n",
      " 2   zona_ser      769032 non-null  object         \n",
      " 3   num_plazas    769008 non-null  float64        \n",
      " 4   hora_del_dia  769032 non-null  timedelta64[ns]\n",
      "dtypes: float64(3), object(1), timedelta64[ns](1)\n",
      "memory usage: 29.3+ MB\n"
     ]
    }
   ],
   "source": [
    "df.info()"
   ]
  },
  {
   "cell_type": "code",
   "execution_count": 24,
   "metadata": {},
   "outputs": [],
   "source": [
    "df.to_csv('data/dfv1.csv', index=False)"
   ]
  },
  {
   "cell_type": "code",
   "execution_count": 23,
   "metadata": {},
   "outputs": [
    {
     "ename": "TypeError",
     "evalue": "dtype timedelta64[ns] cannot be converted to datetime64[ns]",
     "output_type": "error",
     "traceback": [
      "\u001b[1;31m---------------------------------------------------------------------------\u001b[0m",
      "\u001b[1;31mTypeError\u001b[0m                                 Traceback (most recent call last)",
      "Cell \u001b[1;32mIn[23], line 1\u001b[0m\n\u001b[1;32m----> 1\u001b[0m df[\u001b[38;5;124m'\u001b[39m\u001b[38;5;124mhora_del_dia\u001b[39m\u001b[38;5;124m'\u001b[39m] \u001b[38;5;241m=\u001b[39m \u001b[43mpd\u001b[49m\u001b[38;5;241;43m.\u001b[39;49m\u001b[43mto_datetime\u001b[49m\u001b[43m(\u001b[49m\u001b[43mdf\u001b[49m\u001b[43m[\u001b[49m\u001b[38;5;124;43m'\u001b[39;49m\u001b[38;5;124;43mhora_del_dia\u001b[39;49m\u001b[38;5;124;43m'\u001b[39;49m\u001b[43m]\u001b[49m\u001b[43m)\u001b[49m\u001b[38;5;241m.\u001b[39mdt\u001b[38;5;241m.\u001b[39mstrftime(\u001b[38;5;124m'\u001b[39m\u001b[38;5;124m%\u001b[39m\u001b[38;5;124mH:\u001b[39m\u001b[38;5;124m%\u001b[39m\u001b[38;5;124mM\u001b[39m\u001b[38;5;124m'\u001b[39m)\n",
      "File \u001b[1;32mc:\\Users\\jvazq\\Data_Analysis_Tools\\anaconda3\\envs\\pul_par_model\\Lib\\site-packages\\pandas\\core\\tools\\datetimes.py:1063\u001b[0m, in \u001b[0;36mto_datetime\u001b[1;34m(arg, errors, dayfirst, yearfirst, utc, format, exact, unit, infer_datetime_format, origin, cache)\u001b[0m\n\u001b[0;32m   1061\u001b[0m             result \u001b[38;5;241m=\u001b[39m arg\u001b[38;5;241m.\u001b[39mtz_localize(\u001b[38;5;124m\"\u001b[39m\u001b[38;5;124mutc\u001b[39m\u001b[38;5;124m\"\u001b[39m)\n\u001b[0;32m   1062\u001b[0m \u001b[38;5;28;01melif\u001b[39;00m \u001b[38;5;28misinstance\u001b[39m(arg, ABCSeries):\n\u001b[1;32m-> 1063\u001b[0m     cache_array \u001b[38;5;241m=\u001b[39m \u001b[43m_maybe_cache\u001b[49m\u001b[43m(\u001b[49m\u001b[43marg\u001b[49m\u001b[43m,\u001b[49m\u001b[43m \u001b[49m\u001b[38;5;28;43mformat\u001b[39;49m\u001b[43m,\u001b[49m\u001b[43m \u001b[49m\u001b[43mcache\u001b[49m\u001b[43m,\u001b[49m\u001b[43m \u001b[49m\u001b[43mconvert_listlike\u001b[49m\u001b[43m)\u001b[49m\n\u001b[0;32m   1064\u001b[0m     \u001b[38;5;28;01mif\u001b[39;00m \u001b[38;5;129;01mnot\u001b[39;00m cache_array\u001b[38;5;241m.\u001b[39mempty:\n\u001b[0;32m   1065\u001b[0m         result \u001b[38;5;241m=\u001b[39m arg\u001b[38;5;241m.\u001b[39mmap(cache_array)\n",
      "File \u001b[1;32mc:\\Users\\jvazq\\Data_Analysis_Tools\\anaconda3\\envs\\pul_par_model\\Lib\\site-packages\\pandas\\core\\tools\\datetimes.py:247\u001b[0m, in \u001b[0;36m_maybe_cache\u001b[1;34m(arg, format, cache, convert_listlike)\u001b[0m\n\u001b[0;32m    245\u001b[0m unique_dates \u001b[38;5;241m=\u001b[39m unique(arg)\n\u001b[0;32m    246\u001b[0m \u001b[38;5;28;01mif\u001b[39;00m \u001b[38;5;28mlen\u001b[39m(unique_dates) \u001b[38;5;241m<\u001b[39m \u001b[38;5;28mlen\u001b[39m(arg):\n\u001b[1;32m--> 247\u001b[0m     cache_dates \u001b[38;5;241m=\u001b[39m \u001b[43mconvert_listlike\u001b[49m\u001b[43m(\u001b[49m\u001b[43munique_dates\u001b[49m\u001b[43m,\u001b[49m\u001b[43m \u001b[49m\u001b[38;5;28;43mformat\u001b[39;49m\u001b[43m)\u001b[49m\n\u001b[0;32m    248\u001b[0m     \u001b[38;5;66;03m# GH#45319\u001b[39;00m\n\u001b[0;32m    249\u001b[0m     \u001b[38;5;28;01mtry\u001b[39;00m:\n",
      "File \u001b[1;32mc:\\Users\\jvazq\\Data_Analysis_Tools\\anaconda3\\envs\\pul_par_model\\Lib\\site-packages\\pandas\\core\\tools\\datetimes.py:416\u001b[0m, in \u001b[0;36m_convert_listlike_datetimes\u001b[1;34m(arg, format, name, utc, unit, errors, dayfirst, yearfirst, exact)\u001b[0m\n\u001b[0;32m    413\u001b[0m \u001b[38;5;66;03m# warn if passing timedelta64, raise for PeriodDtype\u001b[39;00m\n\u001b[0;32m    414\u001b[0m \u001b[38;5;66;03m# NB: this must come after unit transformation\u001b[39;00m\n\u001b[0;32m    415\u001b[0m \u001b[38;5;28;01mtry\u001b[39;00m:\n\u001b[1;32m--> 416\u001b[0m     arg, _ \u001b[38;5;241m=\u001b[39m \u001b[43mmaybe_convert_dtype\u001b[49m\u001b[43m(\u001b[49m\u001b[43marg\u001b[49m\u001b[43m,\u001b[49m\u001b[43m \u001b[49m\u001b[43mcopy\u001b[49m\u001b[38;5;241;43m=\u001b[39;49m\u001b[38;5;28;43;01mFalse\u001b[39;49;00m\u001b[43m,\u001b[49m\u001b[43m \u001b[49m\u001b[43mtz\u001b[49m\u001b[38;5;241;43m=\u001b[39;49m\u001b[43mlibtimezones\u001b[49m\u001b[38;5;241;43m.\u001b[39;49m\u001b[43mmaybe_get_tz\u001b[49m\u001b[43m(\u001b[49m\u001b[43mtz\u001b[49m\u001b[43m)\u001b[49m\u001b[43m)\u001b[49m\n\u001b[0;32m    417\u001b[0m \u001b[38;5;28;01mexcept\u001b[39;00m \u001b[38;5;167;01mTypeError\u001b[39;00m:\n\u001b[0;32m    418\u001b[0m     \u001b[38;5;28;01mif\u001b[39;00m errors \u001b[38;5;241m==\u001b[39m \u001b[38;5;124m\"\u001b[39m\u001b[38;5;124mcoerce\u001b[39m\u001b[38;5;124m\"\u001b[39m:\n",
      "File \u001b[1;32mc:\\Users\\jvazq\\Data_Analysis_Tools\\anaconda3\\envs\\pul_par_model\\Lib\\site-packages\\pandas\\core\\arrays\\datetimes.py:2462\u001b[0m, in \u001b[0;36mmaybe_convert_dtype\u001b[1;34m(data, copy, tz)\u001b[0m\n\u001b[0;32m   2458\u001b[0m     copy \u001b[38;5;241m=\u001b[39m \u001b[38;5;28;01mFalse\u001b[39;00m\n\u001b[0;32m   2460\u001b[0m \u001b[38;5;28;01melif\u001b[39;00m lib\u001b[38;5;241m.\u001b[39mis_np_dtype(data\u001b[38;5;241m.\u001b[39mdtype, \u001b[38;5;124m\"\u001b[39m\u001b[38;5;124mm\u001b[39m\u001b[38;5;124m\"\u001b[39m) \u001b[38;5;129;01mor\u001b[39;00m is_bool_dtype(data\u001b[38;5;241m.\u001b[39mdtype):\n\u001b[0;32m   2461\u001b[0m     \u001b[38;5;66;03m# GH#29794 enforcing deprecation introduced in GH#23539\u001b[39;00m\n\u001b[1;32m-> 2462\u001b[0m     \u001b[38;5;28;01mraise\u001b[39;00m \u001b[38;5;167;01mTypeError\u001b[39;00m(\u001b[38;5;124mf\u001b[39m\u001b[38;5;124m\"\u001b[39m\u001b[38;5;124mdtype \u001b[39m\u001b[38;5;132;01m{\u001b[39;00mdata\u001b[38;5;241m.\u001b[39mdtype\u001b[38;5;132;01m}\u001b[39;00m\u001b[38;5;124m cannot be converted to datetime64[ns]\u001b[39m\u001b[38;5;124m\"\u001b[39m)\n\u001b[0;32m   2463\u001b[0m \u001b[38;5;28;01melif\u001b[39;00m \u001b[38;5;28misinstance\u001b[39m(data\u001b[38;5;241m.\u001b[39mdtype, PeriodDtype):\n\u001b[0;32m   2464\u001b[0m     \u001b[38;5;66;03m# Note: without explicitly raising here, PeriodIndex\u001b[39;00m\n\u001b[0;32m   2465\u001b[0m     \u001b[38;5;66;03m#  test_setops.test_join_does_not_recur fails\u001b[39;00m\n\u001b[0;32m   2466\u001b[0m     \u001b[38;5;28;01mraise\u001b[39;00m \u001b[38;5;167;01mTypeError\u001b[39;00m(\n\u001b[0;32m   2467\u001b[0m         \u001b[38;5;124m\"\u001b[39m\u001b[38;5;124mPassing PeriodDtype data is invalid. Use `data.to_timestamp()` instead\u001b[39m\u001b[38;5;124m\"\u001b[39m\n\u001b[0;32m   2468\u001b[0m     )\n",
      "\u001b[1;31mTypeError\u001b[0m: dtype timedelta64[ns] cannot be converted to datetime64[ns]"
     ]
    }
   ],
   "source": [
    "df['hora_del_dia'] = pd.to_datetime(df['hora_del_dia']).dt.strftime('%H:%M')\n"
   ]
  }
 ],
 "metadata": {
  "kernelspec": {
   "display_name": "pul_par_model",
   "language": "python",
   "name": "python3"
  },
  "language_info": {
   "codemirror_mode": {
    "name": "ipython",
    "version": 3
   },
   "file_extension": ".py",
   "mimetype": "text/x-python",
   "name": "python",
   "nbconvert_exporter": "python",
   "pygments_lexer": "ipython3",
   "version": "3.12.6"
  }
 },
 "nbformat": 4,
 "nbformat_minor": 2
}
